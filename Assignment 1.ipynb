{
 "cells": [
  {
   "cell_type": "markdown",
   "metadata": {},
   "source": [
    "Assignment 1 -\n",
    "Machine Learning 64060 -\n",
    "Randi Brennan\n",
    "\n",
    "Modify existing neural network to perform (potentially) better by manipulating hidden layers, units, activation and other concepts discussed in class.\n",
    "\n",
    "This demonstration follows the neural netowrk IMDB example in the book Deep Learning \n",
    "with Python, Author: Francois Chollet."
   ]
  },
  {
   "cell_type": "code",
   "execution_count": 106,
   "metadata": {},
   "outputs": [],
   "source": [
    "#import libraries\n",
    "import numpy as np\n",
    "import matplotlib.pyplot as plt\n",
    "from sklearn.metrics import confusion_matrix\n",
    "import tensorflow as tf\n",
    "from tensorflow import keras\n",
    "from tensorflow.keras.datasets import imdb\n",
    "from tensorflow.keras.preprocessing.sequence import pad_sequences\n",
    "from keras import layers, models, optimizers, losses, metrics"
   ]
  },
  {
   "cell_type": "code",
   "execution_count": 3,
   "metadata": {},
   "outputs": [],
   "source": [
    "#import IMDB data and set training and test data\n",
    "(train_data, train_labels), (test_data, test_labels) = imdb.load_data(num_words=10000)"
   ]
  },
  {
   "cell_type": "code",
   "execution_count": 4,
   "metadata": {},
   "outputs": [],
   "source": [
    "#This code can be included to see the data, however to minimize output\n",
    "#I am not running it in this demonstration\n",
    "#train_data[0]"
   ]
  },
  {
   "cell_type": "code",
   "execution_count": 5,
   "metadata": {},
   "outputs": [
    {
     "data": {
      "text/plain": [
       "1"
      ]
     },
     "execution_count": 5,
     "metadata": {},
     "output_type": "execute_result"
    }
   ],
   "source": [
    "train_labels[0]"
   ]
  },
  {
   "cell_type": "code",
   "execution_count": 6,
   "metadata": {},
   "outputs": [
    {
     "data": {
      "text/plain": [
       "9999"
      ]
     },
     "execution_count": 6,
     "metadata": {},
     "output_type": "execute_result"
    }
   ],
   "source": [
    "max([max(sequence)for sequence in train_data])"
   ]
  },
  {
   "cell_type": "code",
   "execution_count": 7,
   "metadata": {},
   "outputs": [],
   "source": [
    "# Define function for creating matrix and setting values to 0 and 1 for processing.\n",
    "def vectorize_sequences(sequences, dimensions=10000):\n",
    "    results = np.zeros((len(sequences), dimensions))\n",
    "    for i, sequences in enumerate(sequences):\n",
    "        results[i, sequences] = 1.\n",
    "    return results"
   ]
  },
  {
   "cell_type": "code",
   "execution_count": 8,
   "metadata": {},
   "outputs": [],
   "source": [
    "# Use above function to vectorize training and test data\n",
    "x_train = vectorize_sequences(train_data)\n",
    "x_test = vectorize_sequences(test_data)"
   ]
  },
  {
   "cell_type": "code",
   "execution_count": 9,
   "metadata": {},
   "outputs": [],
   "source": [
    "# Vectorize labels and set the datatype to float32\n",
    "y_train = np.asarray(train_labels).astype('float32')\n",
    "y_test = np.asarray(test_labels).astype('float32')"
   ]
  },
  {
   "cell_type": "code",
   "execution_count": 10,
   "metadata": {},
   "outputs": [],
   "source": [
    "# Configure model and choose layers, units, activation.\n",
    "model = models.Sequential()\n",
    "model.add(layers.Dense(16, activation='relu', input_shape=(10000,)))\n",
    "model.add(layers.Dense(16, activation='relu'))\n",
    "model.add(layers.Dense(1, activation='sigmoid'))"
   ]
  },
  {
   "cell_type": "code",
   "execution_count": 11,
   "metadata": {},
   "outputs": [],
   "source": [
    "# Set optimizer and loss function\n",
    "model.compile(optimizer='rmsprop',\n",
    "             loss='binary_crossentrophy', \n",
    "              metrics=['accuracy'])"
   ]
  },
  {
   "cell_type": "code",
   "execution_count": 12,
   "metadata": {},
   "outputs": [],
   "source": [
    "# Further configure optimizer\n",
    "model.compile(optimizer=optimizers.RMSprop(lr=0.001),\n",
    "             loss='binary_crossentrophy',\n",
    "             metrics=['accuracy'])"
   ]
  },
  {
   "cell_type": "code",
   "execution_count": 13,
   "metadata": {},
   "outputs": [],
   "source": [
    "# Set loss function and metrics\n",
    "model.compile(optimizer=optimizers.RMSprop(lr=0.001),\n",
    "             loss=losses.binary_crossentropy,\n",
    "             metrics=[metrics.binary_accuracy])"
   ]
  },
  {
   "cell_type": "code",
   "execution_count": 14,
   "metadata": {},
   "outputs": [],
   "source": [
    "# Split x data into training and validation sets\n",
    "x_val = x_train[:10000]\n",
    "partial_x_train = x_train[10000:]"
   ]
  },
  {
   "cell_type": "code",
   "execution_count": 15,
   "metadata": {},
   "outputs": [],
   "source": [
    "# Split y data into training and validation sets\n",
    "y_val = y_train[:10000]\n",
    "partial_y_train = y_train[10000:]"
   ]
  },
  {
   "cell_type": "code",
   "execution_count": 21,
   "metadata": {},
   "outputs": [
    {
     "name": "stdout",
     "output_type": "stream",
     "text": [
      "Epoch 1/20\n",
      "30/30 [==============================] - 2s 65ms/step - loss: 0.1666 - acc: 0.9397 - val_loss: 0.1497 - val_acc: 0.9483\n",
      "Epoch 2/20\n",
      "30/30 [==============================] - 0s 15ms/step - loss: 0.1185 - acc: 0.9628 - val_loss: 0.1623 - val_acc: 0.9404\n",
      "Epoch 3/20\n",
      "30/30 [==============================] - 0s 15ms/step - loss: 0.0946 - acc: 0.9735 - val_loss: 0.1742 - val_acc: 0.9343\n",
      "Epoch 4/20\n",
      "30/30 [==============================] - 0s 14ms/step - loss: 0.0820 - acc: 0.9754 - val_loss: 0.2018 - val_acc: 0.9234\n",
      "Epoch 5/20\n",
      "30/30 [==============================] - 0s 15ms/step - loss: 0.0682 - acc: 0.9819 - val_loss: 0.2073 - val_acc: 0.9234\n",
      "Epoch 6/20\n",
      "30/30 [==============================] - 0s 14ms/step - loss: 0.0522 - acc: 0.9880 - val_loss: 0.2266 - val_acc: 0.9190\n",
      "Epoch 7/20\n",
      "30/30 [==============================] - 0s 14ms/step - loss: 0.0434 - acc: 0.9900 - val_loss: 0.2528 - val_acc: 0.9159\n",
      "Epoch 8/20\n",
      "30/30 [==============================] - 0s 15ms/step - loss: 0.0340 - acc: 0.9927 - val_loss: 0.2919 - val_acc: 0.9071\n",
      "Epoch 9/20\n",
      "30/30 [==============================] - 0s 14ms/step - loss: 0.0273 - acc: 0.9953 - val_loss: 0.2989 - val_acc: 0.9095\n",
      "Epoch 10/20\n",
      "30/30 [==============================] - 0s 15ms/step - loss: 0.0217 - acc: 0.9967 - val_loss: 0.3434 - val_acc: 0.9020\n",
      "Epoch 11/20\n",
      "30/30 [==============================] - 0s 15ms/step - loss: 0.0183 - acc: 0.9977 - val_loss: 0.3616 - val_acc: 0.8996\n",
      "Epoch 12/20\n",
      "30/30 [==============================] - 1s 20ms/step - loss: 0.0134 - acc: 0.9991 - val_loss: 0.3814 - val_acc: 0.9002\n",
      "Epoch 13/20\n",
      "30/30 [==============================] - 1s 18ms/step - loss: 0.0099 - acc: 0.9991 - val_loss: 0.4219 - val_acc: 0.8916\n",
      "Epoch 14/20\n",
      "30/30 [==============================] - 0s 16ms/step - loss: 0.0084 - acc: 0.9994 - val_loss: 0.4382 - val_acc: 0.8968\n",
      "Epoch 15/20\n",
      "30/30 [==============================] - 1s 19ms/step - loss: 0.0056 - acc: 0.9997 - val_loss: 0.4704 - val_acc: 0.8935\n",
      "Epoch 16/20\n",
      "30/30 [==============================] - 1s 20ms/step - loss: 0.0045 - acc: 0.9996 - val_loss: 0.5005 - val_acc: 0.8896\n",
      "Epoch 17/20\n",
      "30/30 [==============================] - 0s 16ms/step - loss: 0.0033 - acc: 0.9999 - val_loss: 0.5244 - val_acc: 0.8891\n",
      "Epoch 18/20\n",
      "30/30 [==============================] - 0s 15ms/step - loss: 0.0036 - acc: 0.9996 - val_loss: 0.5556 - val_acc: 0.8879\n",
      "Epoch 19/20\n",
      "30/30 [==============================] - 0s 16ms/step - loss: 0.0017 - acc: 1.0000 - val_loss: 0.5973 - val_acc: 0.8854\n",
      "Epoch 20/20\n",
      "30/30 [==============================] - 0s 15ms/step - loss: 0.0020 - acc: 0.9997 - val_loss: 0.6192 - val_acc: 0.8868\n",
      "782/782 [==============================] - 1s 1ms/step - loss: 0.8779 - acc: 0.8521\n"
     ]
    },
    {
     "data": {
      "text/plain": [
       "[0.8778910040855408, 0.8521199822425842]"
      ]
     },
     "execution_count": 21,
     "metadata": {},
     "output_type": "execute_result"
    }
   ],
   "source": [
    "#First evaluation of model performance. This is the text example using 20 Epochs.\n",
    "model.compile(optimizer='rmsprop',\n",
    "             loss='binary_crossentropy',\n",
    "             metrics=['acc'])\n",
    "history = model.fit(partial_x_train,\n",
    "                   partial_y_train,\n",
    "                   epochs=20,\n",
    "                   batch_size=512,\n",
    "                   validation_data=(x_val, y_val))\n",
    "results = model.evaluate(x_test, y_test)\n",
    "results"
   ]
  },
  {
   "cell_type": "code",
   "execution_count": 17,
   "metadata": {},
   "outputs": [
    {
     "data": {
      "text/plain": [
       "dict_keys(['loss', 'acc', 'val_loss', 'val_acc'])"
      ]
     },
     "execution_count": 17,
     "metadata": {},
     "output_type": "execute_result"
    }
   ],
   "source": [
    "# Set variable for keys\n",
    "history_dict = history.history\n",
    "history_dict.keys()"
   ]
  },
  {
   "cell_type": "code",
   "execution_count": 18,
   "metadata": {},
   "outputs": [
    {
     "data": {
      "image/png": "[encoded data removed]",
      "text/plain": [
       "<Figure size 432x288 with 1 Axes>"
      ]
     },
     "metadata": {
      "needs_background": "light"
     },
     "output_type": "display_data"
    }
   ],
   "source": [
    "#Plot training and validation loss\n",
    "history_dict = history.history\n",
    "loss_values = history_dict['loss']\n",
    "val_loss_values = history_dict['val_loss']\n",
    "\n",
    "epochs = range(1, len(history_dict['acc']) + 1)\n",
    "\n",
    "plt.plot(epochs, loss_values, 'bo', label=\"Training loss\")\n",
    "plt.plot(epochs, val_loss_values, 'b', label='Validation loss')\n",
    "plt.title('Training and Valiation Loss')\n",
    "plt.xlabel('Epochs')\n",
    "plt.ylabel('Loss')\n",
    "plt.legend()\n",
    "plt.show()"
   ]
  },
  {
   "cell_type": "code",
   "execution_count": 91,
   "metadata": {},
   "outputs": [
    {
     "data": {
      "image/png": "[encoded data removed]",
      "text/plain": [
       "<Figure size 432x288 with 1 Axes>"
      ]
     },
     "metadata": {
      "needs_background": "light"
     },
     "output_type": "display_data"
    }
   ],
   "source": [
    "#Plot training and validation accuracy\n",
    "plt.clf()\n",
    "\n",
    "plt.plot(epochs, history_dict['acc'], 'bo', label='Training acc')\n",
    "plt.plot(epochs, history_dict['val_acc'], 'b', label='Validation acc')\n",
    "plt.title('Training and Validation Accuracy')\n",
    "plt.xlabel('Epochs')\n",
    "plt.ylabel('Loss')\n",
    "plt.legend()\n",
    "\n",
    "plt.show()"
   ]
  },
  {
   "cell_type": "markdown",
   "metadata": {},
   "source": [
    "This section shows the modifications made to the model to boost performance.\n",
    "The best result is first, then I am including 5 additional examples of differnet layers,\n",
    "units, loss functions, activation methods and other tecniques dicussed in class."
   ]
  },
  {
   "cell_type": "code",
   "execution_count": 170,
   "metadata": {},
   "outputs": [
    {
     "name": "stdout",
     "output_type": "stream",
     "text": [
      "Epoch 1/7\n",
      "56/56 [==============================] - 1s 13ms/step - loss: 0.3903 - accuracy: 0.7223\n",
      "Epoch 2/7\n",
      "56/56 [==============================] - 0s 8ms/step - loss: 0.2321 - accuracy: 0.8682\n",
      "Epoch 3/7\n",
      "56/56 [==============================] - 0s 8ms/step - loss: 0.1728 - accuracy: 0.8935\n",
      "Epoch 4/7\n",
      "56/56 [==============================] - 0s 8ms/step - loss: 0.1435 - accuracy: 0.9073\n",
      "Epoch 5/7\n",
      "56/56 [==============================] - 0s 8ms/step - loss: 0.1224 - accuracy: 0.9159\n",
      "Epoch 6/7\n",
      "56/56 [==============================] - 0s 8ms/step - loss: 0.1106 - accuracy: 0.9222\n",
      "Epoch 7/7\n",
      "56/56 [==============================] - 0s 8ms/step - loss: 0.0974 - accuracy: 0.9302\n",
      "782/782 [==============================] - 1s 1ms/step - loss: 0.1245 - accuracy: 0.8905\n"
     ]
    },
    {
     "data": {
      "text/plain": [
       "[0.12445691227912903, 0.8904799818992615]"
      ]
     },
     "execution_count": 170,
     "metadata": {},
     "output_type": "execute_result"
    }
   ],
   "source": [
    "# Using 16 units, two layers, dropout and mean absolute error for loss. Activation\n",
    "# was 'linear' and 'sigmoid'. This model was the most accurate model \n",
    "# I was able to build. Loss was fairly low in comparison to other models below.\n",
    "model = models.Sequential()\n",
    "model.add(layers.Dense(16, activation = 'linear', input_shape=(10000,)))\n",
    "model.add(layers.Dropout(0.7, noise_shape=None, seed=None))\n",
    "model.add(layers.Dense(1, activation = 'sigmoid'))\n",
    "\n",
    "model.compile(optimizer='rmsprop',\n",
    "             loss='mae',\n",
    "             metrics=['accuracy'])\n",
    "\n",
    "model.fit(x_train, y_train, epochs=7, batch_size=450)\n",
    "results = model.evaluate(x_test, y_test)\n",
    "results"
   ]
  },
  {
   "cell_type": "code",
   "execution_count": 110,
   "metadata": {},
   "outputs": [
    {
     "name": "stdout",
     "output_type": "stream",
     "text": [
      "Epoch 1/4\n",
      "98/98 [==============================] - 2s 8ms/step - loss: 0.9149 - accuracy: 0.4997\n",
      "Epoch 2/4\n",
      "98/98 [==============================] - 0s 5ms/step - loss: 0.4119 - accuracy: 0.5191\n",
      "Epoch 3/4\n",
      "98/98 [==============================] - 0s 5ms/step - loss: 0.2446 - accuracy: 0.6366\n",
      "Epoch 4/4\n",
      "98/98 [==============================] - 0s 5ms/step - loss: 0.1777 - accuracy: 0.7396\n",
      "782/782 [==============================] - 1s 2ms/step - loss: 0.1060 - accuracy: 0.8899\n"
     ]
    },
    {
     "data": {
      "text/plain": [
       "[0.10604095458984375, 0.8898800015449524]"
      ]
     },
     "execution_count": 110,
     "metadata": {},
     "output_type": "execute_result"
    }
   ],
   "source": [
    "# This was an experiment adding additional layers, three different activations and using \n",
    "# mse for loss. Dropout was also used to help relate the model and help overfitting.\n",
    "model = models.Sequential()\n",
    "model.add(layers.Dense(16, activation = 'linear', input_shape=(10000,)))\n",
    "model.add(layers.Dense(16, activation = 'sigmoid'))\n",
    "model.add(layers.Dense(16, activation = 'sigmoid'))\n",
    "model.add(layers.Dropout(0.7, noise_shape=None, seed=None))\n",
    "model.add(layers.Dense(1, activation = 'tanh'))\n",
    "\n",
    "model.compile(optimizer='rmsprop',\n",
    "             loss='mse',\n",
    "             metrics=['accuracy'])\n",
    "\n",
    "model.fit(x_train, y_train, epochs=4, batch_size=256)\n",
    "results = model.evaluate(x_test, y_test)\n",
    "results\n"
   ]
  },
  {
   "cell_type": "code",
   "execution_count": 116,
   "metadata": {},
   "outputs": [
    {
     "name": "stdout",
     "output_type": "stream",
     "text": [
      "Epoch 1/5\n",
      "49/49 [==============================] - 2s 19ms/step - loss: 0.6664 - accuracy: 0.5801\n",
      "Epoch 2/5\n",
      "49/49 [==============================] - 0s 10ms/step - loss: 0.5261 - accuracy: 0.7666\n",
      "Epoch 3/5\n",
      "49/49 [==============================] - 0s 10ms/step - loss: 0.4121 - accuracy: 0.8327\n",
      "Epoch 4/5\n",
      "49/49 [==============================] - 0s 10ms/step - loss: 0.3398 - accuracy: 0.8765\n",
      "Epoch 5/5\n",
      "49/49 [==============================] - 0s 9ms/step - loss: 0.2751 - accuracy: 0.9060\n",
      "782/782 [==============================] - 1s 2ms/step - loss: 0.2961 - accuracy: 0.8830\n"
     ]
    },
    {
     "data": {
      "text/plain": [
       "[0.2960941195487976, 0.8830400109291077]"
      ]
     },
     "execution_count": 116,
     "metadata": {},
     "output_type": "execute_result"
    }
   ],
   "source": [
    "#This model is using multiple dropouts, two differnet activations as well as \n",
    "# binary_crossentrophy for loss. 5 Epochs helped with accuracy in this example.\n",
    "model = models.Sequential()\n",
    "model.add(layers.Dense(16, activation = 'relu', input_shape=(10000,)))\n",
    "model.add(layers.Dense(16, activation = 'relu'))\n",
    "model.add(layers.Dropout(0.4, noise_shape=None, seed=None))\n",
    "model.add(layers.Dense(16, activation = 'relu'))\n",
    "model.add(layers.Dropout(0.7, noise_shape=None, seed=None))\n",
    "model.add(layers.Dense(1, activation = 'sigmoid'))\n",
    "\n",
    "model.compile(optimizer='rmsprop',\n",
    "             loss='binary_crossentropy',\n",
    "             metrics=['accuracy'])\n",
    "\n",
    "model.fit(x_train, y_train, epochs=5, batch_size=512)\n",
    "results = model.evaluate(x_test, y_test)\n",
    "results"
   ]
  },
  {
   "cell_type": "code",
   "execution_count": 125,
   "metadata": {},
   "outputs": [
    {
     "name": "stdout",
     "output_type": "stream",
     "text": [
      "Epoch 1/5\n",
      "56/56 [==============================] - 2s 18ms/step - loss: 0.4174 - accuracy: 0.6380\n",
      "Epoch 2/5\n",
      "56/56 [==============================] - 1s 13ms/step - loss: 0.2330 - accuracy: 0.8544\n",
      "Epoch 3/5\n",
      "56/56 [==============================] - 1s 13ms/step - loss: 0.1628 - accuracy: 0.9127\n",
      "Epoch 4/5\n",
      "56/56 [==============================] - 1s 13ms/step - loss: 0.1205 - accuracy: 0.9326\n",
      "Epoch 5/5\n",
      "56/56 [==============================] - 1s 12ms/step - loss: 0.0927 - accuracy: 0.9433\n",
      "782/782 [==============================] - 2s 2ms/step - loss: 0.1384 - accuracy: 0.8817\n"
     ]
    },
    {
     "data": {
      "text/plain": [
       "[0.13844771683216095, 0.8817200064659119]"
      ]
     },
     "execution_count": 125,
     "metadata": {},
     "output_type": "execute_result"
    }
   ],
   "source": [
    "#Here there are multiple layers, more hidden units, three different activation, \n",
    "# a smaller batch size and 5 epochs.\n",
    "model = models.Sequential()\n",
    "model.add(layers.Dense(64, activation = 'relu', input_shape=(10000,)))\n",
    "model.add(layers.Dense(64, activation = 'sigmoid'))\n",
    "model.add(layers.Dropout(0.3, noise_shape=None, seed=None))\n",
    "model.add(layers.Dense(1, activation = 'tanh'))\n",
    "\n",
    "model.compile(optimizer='rmsprop',\n",
    "             loss='mae',\n",
    "             metrics=['accuracy'])\n",
    "\n",
    "model.fit(x_train, y_train, epochs=5, batch_size=450)\n",
    "results = model.evaluate(x_test, y_test)\n",
    "results"
   ]
  },
  {
   "cell_type": "code",
   "execution_count": 140,
   "metadata": {},
   "outputs": [
    {
     "name": "stdout",
     "output_type": "stream",
     "text": [
      "Epoch 1/7\n",
      "72/72 [==============================] - 2s 12ms/step - loss: 0.5983 - accuracy: 0.5116\n",
      "Epoch 2/7\n",
      "72/72 [==============================] - 1s 11ms/step - loss: 0.3413 - accuracy: 0.7360\n",
      "Epoch 3/7\n",
      "72/72 [==============================] - 1s 11ms/step - loss: 0.2180 - accuracy: 0.8631\n",
      "Epoch 4/7\n",
      "72/72 [==============================] - 1s 11ms/step - loss: 0.1334 - accuracy: 0.9114\n",
      "Epoch 5/7\n",
      "72/72 [==============================] - 1s 11ms/step - loss: 0.0984 - accuracy: 0.9283\n",
      "Epoch 6/7\n",
      "72/72 [==============================] - 1s 11ms/step - loss: 0.0778 - accuracy: 0.9416\n",
      "Epoch 7/7\n",
      "72/72 [==============================] - 1s 11ms/step - loss: 0.0643 - accuracy: 0.9498\n",
      "782/782 [==============================] - 1s 2ms/step - loss: 0.1277 - accuracy: 0.8814: 0s - loss: 0.1307 \n"
     ]
    },
    {
     "data": {
      "text/plain": [
       "[0.127738818526268, 0.8813999891281128]"
      ]
     },
     "execution_count": 140,
     "metadata": {},
     "output_type": "execute_result"
    }
   ],
   "source": [
    "# Experiment using multiple hidden unit values, multiple activations, and multiple layers.\n",
    "# Using MAE loss function.\n",
    "model = models.Sequential()\n",
    "model.add(layers.Dense(64, activation = 'linear', input_shape=(10000,)))\n",
    "model.add(layers.Dense(128, activation = 'sigmoid'))\n",
    "model.add(layers.Dropout(0.7, noise_shape=None, seed=None))\n",
    "model.add(layers.Dense(1, activation = 'tanh'))\n",
    "\n",
    "model.compile(optimizer='rmsprop',\n",
    "             loss='mae',\n",
    "             metrics=['accuracy'])\n",
    "\n",
    "model.fit(x_train, y_train, epochs=7, batch_size=350)\n",
    "results = model.evaluate(x_test, y_test)\n",
    "results"
   ]
  },
  {
   "cell_type": "code",
   "execution_count": 151,
   "metadata": {},
   "outputs": [
    {
     "name": "stdout",
     "output_type": "stream",
     "text": [
      "Epoch 1/6\n",
      "63/63 [==============================] - 2s 15ms/step - loss: 0.1378 - accuracy: 0.6380\n",
      "Epoch 2/6\n",
      "63/63 [==============================] - 1s 13ms/step - loss: 0.0602 - accuracy: 0.8423\n",
      "Epoch 3/6\n",
      "63/63 [==============================] - 1s 12ms/step - loss: 0.0465 - accuracy: 0.8877\n",
      "Epoch 4/6\n",
      "63/63 [==============================] - 1s 12ms/step - loss: 0.0384 - accuracy: 0.9126\n",
      "Epoch 5/6\n",
      "63/63 [==============================] - 1s 12ms/step - loss: 0.0347 - accuracy: 0.9225\n",
      "Epoch 6/6\n",
      "63/63 [==============================] - 1s 12ms/step - loss: 0.0289 - accuracy: 0.9427\n",
      "782/782 [==============================] - 1s 2ms/step - loss: 0.0462 - accuracy: 0.8777\n"
     ]
    },
    {
     "data": {
      "text/plain": [
       "[0.04620939865708351, 0.8777199983596802]"
      ]
     },
     "execution_count": 151,
     "metadata": {},
     "output_type": "execute_result"
    }
   ],
   "source": [
    "# Moved hidden units to 63, activation using linear and relu. Logcosh for loss.\n",
    "model = models.Sequential()\n",
    "model.add(layers.Dense(64, activation = 'linear', input_shape=(10000,)))\n",
    "model.add(layers.Dense(64, activation = 'relu'))\n",
    "model.add(layers.Dropout(0.5, noise_shape=None, seed=None))\n",
    "model.add(layers.Dense(1, activation = 'relu'))\n",
    "\n",
    "model.compile(optimizer='rmsprop',\n",
    "             loss='logcosh',\n",
    "             metrics=['accuracy'])\n",
    "\n",
    "model.fit(x_train, y_train, epochs=6, batch_size=400)\n",
    "results = model.evaluate(x_test, y_test)\n",
    "results"
   ]
  },
  {
   "cell_type": "code",
   "execution_count": 171,
   "metadata": {},
   "outputs": [],
   "source": [
    "# Changed the optimizer between ADAGRAD, ADADELTA, SGD and ADAM. Adagrad, adadelta and SGD\n",
    "# lost almost 45% accuracy\n",
    "# Attempted with 4 and 5 epochs with these configurations. \n",
    "# 5 resulted in a .001 loss in accuracy.\n",
    "\n",
    "#These are the examples of model manipulation that I am posting for the assignment, \n",
    "#however there were many many more iterations. The first example was the most accurate model.\n"
   ]
  }
 ],
 "metadata": {
  "kernelspec": {
   "display_name": "Python 3",
   "language": "python",
   "name": "python3"
  },
  "language_info": {
   "codemirror_mode": {
    "name": "ipython",
    "version": 3
   },
   "file_extension": ".py",
   "mimetype": "text/x-python",
   "name": "python",
   "nbconvert_exporter": "python",
   "pygments_lexer": "ipython3",
   "version": "3.8.5"
  }
 },
 "nbformat": 4,
 "nbformat_minor": 4
}
